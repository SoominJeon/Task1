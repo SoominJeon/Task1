{
  "nbformat": 4,
  "nbformat_minor": 0,
  "metadata": {
    "colab": {
      "name": "DataAnalysis.ipynb",
      "provenance": [],
      "collapsed_sections": [],
      "mount_file_id": "1EhVK21Fg7nR_Hr3NFXcyViPTH8RqjZSN",
      "authorship_tag": "ABX9TyP2Ob69msPEHoVKRQ9AYOBz",
      "include_colab_link": true
    },
    "kernelspec": {
      "name": "python3",
      "display_name": "Python 3"
    }
  },
  "cells": [
    {
      "cell_type": "markdown",
      "metadata": {
        "id": "view-in-github",
        "colab_type": "text"
      },
      "source": [
        "<a href=\"https://colab.research.google.com/github/SoominJeon/Task1/blob/main/DataAnalysis.ipynb\" target=\"_parent\"><img src=\"https://colab.research.google.com/assets/colab-badge.svg\" alt=\"Open In Colab\"/></a>"
      ]
    },
    {
      "cell_type": "markdown",
      "metadata": {
        "id": "kCC5Hh9pfArF"
      },
      "source": [
        "# Data loading and brief analysis"
      ]
    },
    {
      "cell_type": "code",
      "metadata": {
        "id": "Ooyy7EUROhGe"
      },
      "source": [
        "import numpy as np\n",
        "import sklearn\n",
        "from scipy import stats\n",
        "import matplotlib.pyplot as plt\n",
        "import os\n",
        "import seaborn as sns\n",
        "import pandas as pd \n",
        "\n",
        "data=pd.read_csv(\"/content/drive/MyDrive/COLAB_SM/SpineSurgery/xr_data_spine_surgery_wristfracture.csv\")"
      ],
      "execution_count": 3,
      "outputs": []
    },
    {
      "cell_type": "markdown",
      "metadata": {
        "id": "Me_O9CRIfN14"
      },
      "source": [
        "# Data structure"
      ]
    },
    {
      "cell_type": "code",
      "metadata": {
        "colab": {
          "base_uri": "https://localhost:8080/",
          "height": 204
        },
        "id": "fmk4L4hqOyv8",
        "outputId": "4d089842-eaf6-42a8-9b68-b45599df90e5"
      },
      "source": [
        "data.head()"
      ],
      "execution_count": 4,
      "outputs": [
        {
          "output_type": "execute_result",
          "data": {
            "text/html": [
              "<div>\n",
              "<style scoped>\n",
              "    .dataframe tbody tr th:only-of-type {\n",
              "        vertical-align: middle;\n",
              "    }\n",
              "\n",
              "    .dataframe tbody tr th {\n",
              "        vertical-align: top;\n",
              "    }\n",
              "\n",
              "    .dataframe thead th {\n",
              "        text-align: right;\n",
              "    }\n",
              "</style>\n",
              "<table border=\"1\" class=\"dataframe\">\n",
              "  <thead>\n",
              "    <tr style=\"text-align: right;\">\n",
              "      <th></th>\n",
              "      <th>Unnamed: 0</th>\n",
              "      <th>PatientID</th>\n",
              "      <th>AccessionNumber</th>\n",
              "      <th>SeriesNumber</th>\n",
              "      <th>InstanceNumber</th>\n",
              "      <th>Modality</th>\n",
              "      <th>ViewPosition</th>\n",
              "      <th>PatientSex</th>\n",
              "      <th>PatientAge</th>\n",
              "      <th>Manufacturer</th>\n",
              "      <th>PATH</th>\n",
              "    </tr>\n",
              "  </thead>\n",
              "  <tbody>\n",
              "    <tr>\n",
              "      <th>0</th>\n",
              "      <td>0</td>\n",
              "      <td>5324252</td>\n",
              "      <td>E10649388</td>\n",
              "      <td>7</td>\n",
              "      <td>1</td>\n",
              "      <td>DX</td>\n",
              "      <td>AP</td>\n",
              "      <td>F</td>\n",
              "      <td>66</td>\n",
              "      <td>Agfa</td>\n",
              "      <td>E10649388_DX_AP_000007_000001.dcm</td>\n",
              "    </tr>\n",
              "    <tr>\n",
              "      <th>1</th>\n",
              "      <td>1</td>\n",
              "      <td>5324252</td>\n",
              "      <td>E10649388</td>\n",
              "      <td>6</td>\n",
              "      <td>1</td>\n",
              "      <td>DX</td>\n",
              "      <td>AP</td>\n",
              "      <td>F</td>\n",
              "      <td>66</td>\n",
              "      <td>Agfa</td>\n",
              "      <td>E10649388_DX_AP_000006_000001.dcm</td>\n",
              "    </tr>\n",
              "    <tr>\n",
              "      <th>2</th>\n",
              "      <td>2</td>\n",
              "      <td>5324252</td>\n",
              "      <td>E10649388</td>\n",
              "      <td>8</td>\n",
              "      <td>1</td>\n",
              "      <td>DX</td>\n",
              "      <td>AP</td>\n",
              "      <td>F</td>\n",
              "      <td>66</td>\n",
              "      <td>Agfa</td>\n",
              "      <td>E10649388_DX_AP_000008_000001.dcm</td>\n",
              "    </tr>\n",
              "    <tr>\n",
              "      <th>3</th>\n",
              "      <td>3</td>\n",
              "      <td>5324252</td>\n",
              "      <td>E10649388</td>\n",
              "      <td>9</td>\n",
              "      <td>1</td>\n",
              "      <td>DX</td>\n",
              "      <td>AP</td>\n",
              "      <td>F</td>\n",
              "      <td>66</td>\n",
              "      <td>Agfa</td>\n",
              "      <td>E10649388_DX_AP_000009_000001.dcm</td>\n",
              "    </tr>\n",
              "    <tr>\n",
              "      <th>4</th>\n",
              "      <td>4</td>\n",
              "      <td>3110287</td>\n",
              "      <td>E12119821</td>\n",
              "      <td>7</td>\n",
              "      <td>1</td>\n",
              "      <td>DX</td>\n",
              "      <td>AP</td>\n",
              "      <td>M</td>\n",
              "      <td>62</td>\n",
              "      <td>Agfa</td>\n",
              "      <td>E12119821_DX_AP_000007_000001.dcm</td>\n",
              "    </tr>\n",
              "  </tbody>\n",
              "</table>\n",
              "</div>"
            ],
            "text/plain": [
              "   Unnamed: 0  PatientID  ... Manufacturer                               PATH\n",
              "0           0    5324252  ...         Agfa  E10649388_DX_AP_000007_000001.dcm\n",
              "1           1    5324252  ...         Agfa  E10649388_DX_AP_000006_000001.dcm\n",
              "2           2    5324252  ...         Agfa  E10649388_DX_AP_000008_000001.dcm\n",
              "3           3    5324252  ...         Agfa  E10649388_DX_AP_000009_000001.dcm\n",
              "4           4    3110287  ...         Agfa  E12119821_DX_AP_000007_000001.dcm\n",
              "\n",
              "[5 rows x 11 columns]"
            ]
          },
          "metadata": {
            "tags": []
          },
          "execution_count": 4
        }
      ]
    },
    {
      "cell_type": "code",
      "metadata": {
        "colab": {
          "base_uri": "https://localhost:8080/"
        },
        "id": "s5ffVKitRSKF",
        "outputId": "b163b564-b28e-4f17-e56f-13f4e4c8e294"
      },
      "source": [
        "data.shape"
      ],
      "execution_count": 5,
      "outputs": [
        {
          "output_type": "execute_result",
          "data": {
            "text/plain": [
              "(5509, 11)"
            ]
          },
          "metadata": {
            "tags": []
          },
          "execution_count": 5
        }
      ]
    },
    {
      "cell_type": "code",
      "metadata": {
        "colab": {
          "base_uri": "https://localhost:8080/"
        },
        "id": "pc3u77dRRcpX",
        "outputId": "8f88f4fb-3f3b-4842-97e0-30287d5b1d5c"
      },
      "source": [
        "data.columns"
      ],
      "execution_count": 6,
      "outputs": [
        {
          "output_type": "execute_result",
          "data": {
            "text/plain": [
              "Index(['Unnamed: 0', 'PatientID', 'AccessionNumber', 'SeriesNumber',\n",
              "       'InstanceNumber', 'Modality', 'ViewPosition', 'PatientSex',\n",
              "       'PatientAge', 'Manufacturer', 'PATH'],\n",
              "      dtype='object')"
            ]
          },
          "metadata": {
            "tags": []
          },
          "execution_count": 6
        }
      ]
    },
    {
      "cell_type": "code",
      "metadata": {
        "colab": {
          "base_uri": "https://localhost:8080/",
          "height": 297
        },
        "id": "vLxl2d6IRsuS",
        "outputId": "60ae4152-58df-4369-eefa-b4fc33a1ed7f"
      },
      "source": [
        "data.describe()  # meaningless"
      ],
      "execution_count": 7,
      "outputs": [
        {
          "output_type": "execute_result",
          "data": {
            "text/html": [
              "<div>\n",
              "<style scoped>\n",
              "    .dataframe tbody tr th:only-of-type {\n",
              "        vertical-align: middle;\n",
              "    }\n",
              "\n",
              "    .dataframe tbody tr th {\n",
              "        vertical-align: top;\n",
              "    }\n",
              "\n",
              "    .dataframe thead th {\n",
              "        text-align: right;\n",
              "    }\n",
              "</style>\n",
              "<table border=\"1\" class=\"dataframe\">\n",
              "  <thead>\n",
              "    <tr style=\"text-align: right;\">\n",
              "      <th></th>\n",
              "      <th>Unnamed: 0</th>\n",
              "      <th>PatientID</th>\n",
              "      <th>SeriesNumber</th>\n",
              "      <th>InstanceNumber</th>\n",
              "      <th>PatientAge</th>\n",
              "    </tr>\n",
              "  </thead>\n",
              "  <tbody>\n",
              "    <tr>\n",
              "      <th>count</th>\n",
              "      <td>5509.000000</td>\n",
              "      <td>5.509000e+03</td>\n",
              "      <td>5509.000000</td>\n",
              "      <td>5509.000000</td>\n",
              "      <td>5509.000000</td>\n",
              "    </tr>\n",
              "    <tr>\n",
              "      <th>mean</th>\n",
              "      <td>2756.160828</td>\n",
              "      <td>4.385830e+06</td>\n",
              "      <td>2061.056816</td>\n",
              "      <td>40.399710</td>\n",
              "      <td>54.078599</td>\n",
              "    </tr>\n",
              "    <tr>\n",
              "      <th>std</th>\n",
              "      <td>1591.797836</td>\n",
              "      <td>4.056569e+06</td>\n",
              "      <td>11665.955858</td>\n",
              "      <td>223.003505</td>\n",
              "      <td>18.087352</td>\n",
              "    </tr>\n",
              "    <tr>\n",
              "      <th>min</th>\n",
              "      <td>0.000000</td>\n",
              "      <td>1.728000e+03</td>\n",
              "      <td>1.000000</td>\n",
              "      <td>1.000000</td>\n",
              "      <td>7.000000</td>\n",
              "    </tr>\n",
              "    <tr>\n",
              "      <th>25%</th>\n",
              "      <td>1378.000000</td>\n",
              "      <td>2.948993e+06</td>\n",
              "      <td>2.000000</td>\n",
              "      <td>1.000000</td>\n",
              "      <td>42.000000</td>\n",
              "    </tr>\n",
              "    <tr>\n",
              "      <th>50%</th>\n",
              "      <td>2757.000000</td>\n",
              "      <td>4.311782e+06</td>\n",
              "      <td>3.000000</td>\n",
              "      <td>1.000000</td>\n",
              "      <td>56.000000</td>\n",
              "    </tr>\n",
              "    <tr>\n",
              "      <th>75%</th>\n",
              "      <td>4134.000000</td>\n",
              "      <td>5.924366e+06</td>\n",
              "      <td>6.000000</td>\n",
              "      <td>1.000000</td>\n",
              "      <td>66.000000</td>\n",
              "    </tr>\n",
              "    <tr>\n",
              "      <th>max</th>\n",
              "      <td>5512.000000</td>\n",
              "      <td>1.001226e+08</td>\n",
              "      <td>105636.000000</td>\n",
              "      <td>3004.000000</td>\n",
              "      <td>118.000000</td>\n",
              "    </tr>\n",
              "  </tbody>\n",
              "</table>\n",
              "</div>"
            ],
            "text/plain": [
              "        Unnamed: 0     PatientID   SeriesNumber  InstanceNumber   PatientAge\n",
              "count  5509.000000  5.509000e+03    5509.000000     5509.000000  5509.000000\n",
              "mean   2756.160828  4.385830e+06    2061.056816       40.399710    54.078599\n",
              "std    1591.797836  4.056569e+06   11665.955858      223.003505    18.087352\n",
              "min       0.000000  1.728000e+03       1.000000        1.000000     7.000000\n",
              "25%    1378.000000  2.948993e+06       2.000000        1.000000    42.000000\n",
              "50%    2757.000000  4.311782e+06       3.000000        1.000000    56.000000\n",
              "75%    4134.000000  5.924366e+06       6.000000        1.000000    66.000000\n",
              "max    5512.000000  1.001226e+08  105636.000000     3004.000000   118.000000"
            ]
          },
          "metadata": {
            "tags": []
          },
          "execution_count": 7
        }
      ]
    },
    {
      "cell_type": "markdown",
      "metadata": {
        "id": "5pCU76-ufYCo"
      },
      "source": [
        "# Arrange the patient ID and corresponding info (without redundancy)"
      ]
    },
    {
      "cell_type": "code",
      "metadata": {
        "id": "tCXKdmPU6BGe"
      },
      "source": [
        "PID=data['PatientID']\n",
        "_PID, _IND, _INV, _CNT = np.unique(PID, return_index=True, return_inverse=True, return_counts=True)"
      ],
      "execution_count": 8,
      "outputs": []
    },
    {
      "cell_type": "code",
      "metadata": {
        "id": "qEdN4Oh38X1d"
      },
      "source": [
        "_SEX=np.zeros(len(_PID))\n",
        "_SEX = []\n",
        "_AGE=np.zeros(len(_PID))\n",
        "_Manufacture = []\n",
        "_Modality = []"
      ],
      "execution_count": 9,
      "outputs": []
    },
    {
      "cell_type": "code",
      "metadata": {
        "id": "tRdsrkoE6y0O"
      },
      "source": [
        "for i, ind in enumerate(_IND):\n",
        "    _SEX.append(data.PatientSex[ind])\n",
        "    _AGE[i] = data.PatientAge[ind]\n",
        "    _Manufacture.append(data.Manufacturer[ind])\n",
        "    _Modality.append(data.Modality[ind])"
      ],
      "execution_count": 10,
      "outputs": []
    },
    {
      "cell_type": "code",
      "metadata": {
        "colab": {
          "base_uri": "https://localhost:8080/",
          "height": 355
        },
        "id": "vMIkAjCN9lBi",
        "outputId": "40e23e0e-647e-45fb-bd7c-5e506b8974c1"
      },
      "source": [
        "sns.distplot(a=_AGE, kde=False, label='Age').set_title('Age distribution')\n",
        "#sns.distplot(a=data['PatientAge'], kde=False)"
      ],
      "execution_count": 11,
      "outputs": [
        {
          "output_type": "stream",
          "text": [
            "/usr/local/lib/python3.6/dist-packages/seaborn/distributions.py:2551: FutureWarning: `distplot` is a deprecated function and will be removed in a future version. Please adapt your code to use either `displot` (a figure-level function with similar flexibility) or `histplot` (an axes-level function for histograms).\n",
            "  warnings.warn(msg, FutureWarning)\n"
          ],
          "name": "stderr"
        },
        {
          "output_type": "execute_result",
          "data": {
            "text/plain": [
              "Text(0.5, 1.0, 'Age distribution')"
            ]
          },
          "metadata": {
            "tags": []
          },
          "execution_count": 11
        },
        {
          "output_type": "display_data",
          "data": {
            "image/png": "[encoded data removed]",
            "text/plain": [
              "<Figure size 432x288 with 1 Axes>"
            ]
          },
          "metadata": {
            "tags": [],
            "needs_background": "light"
          }
        }
      ]
    },
    {
      "cell_type": "code",
      "metadata": {
        "colab": {
          "base_uri": "https://localhost:8080/",
          "height": 317
        },
        "id": "j2lGMfCH-vbv",
        "outputId": "a0e3c2fe-2418-4375-8965-d059105a1641"
      },
      "source": [
        "__sex, __sexcount= np.unique(_SEX, return_counts=True)\n",
        "print(__sex)\n",
        "print(__sexcount)\n",
        "plt.bar(__sex,__sexcount)\n",
        "plt.title('Sex')\n",
        "plt.show()\n"
      ],
      "execution_count": 21,
      "outputs": [
        {
          "output_type": "stream",
          "text": [
            "['F' 'M']\n",
            "[387 179]\n"
          ],
          "name": "stdout"
        },
        {
          "output_type": "display_data",
          "data": {
            "image/png": "[encoded data removed]",
            "text/plain": [
              "<Figure size 432x288 with 1 Axes>"
            ]
          },
          "metadata": {
            "tags": [],
            "needs_background": "light"
          }
        }
      ]
    },
    {
      "cell_type": "code",
      "metadata": {
        "colab": {
          "base_uri": "https://localhost:8080/",
          "height": 425
        },
        "id": "WwZAwkjJAlbn",
        "outputId": "02fca43f-b1e5-48fd-cffa-65109a087115"
      },
      "source": [
        "__manu, __manu_count= np.unique(_Manufacture, return_counts=True)\n",
        "print(__manu)\n",
        "print(__manu_count)\n",
        "plt.bar(__manu,__manu_count)\n",
        "plt.title('Manufacture')\n",
        "plt.show()\n"
      ],
      "execution_count": 22,
      "outputs": [
        {
          "output_type": "stream",
          "text": [
            "['\"GE Healthcare\"' 'AMICAS-NSC' 'Agfa' 'CARESTREAM HEALTH' 'Canon Inc.'\n",
            " 'Carestream Health' 'FUJI PHOTO FILM Co., ltd.,' 'FUJIFILM Corporation'\n",
            " 'FUJIFILM Medical Systems USA, Inc.' 'GE Healthcare' 'GE MEDICAL SYSTEMS'\n",
            " 'IRAY' 'KONICA MINOLTA' 'Konica Minolta' 'Lexmark' 'LifeImageNotify'\n",
            " 'PACSGEAR' 'Philips' 'Philips Medical Systems' 'SIEMENS'\n",
            " 'Samsung Electronics' 'Toshiba' 'Varian' 'Visage PR']\n",
            "[ 10   2 376   7   2   3   2  30   1  13  23  12   7   2   1  25   1   1\n",
            "   8  13   1   2  21   3]\n"
          ],
          "name": "stdout"
        },
        {
          "output_type": "display_data",
          "data": {
            "image/png": "[encoded data removed]",
            "text/plain": [
              "<Figure size 432x288 with 1 Axes>"
            ]
          },
          "metadata": {
            "tags": [],
            "needs_background": "light"
          }
        }
      ]
    },
    {
      "cell_type": "code",
      "metadata": {
        "colab": {
          "base_uri": "https://localhost:8080/",
          "height": 317
        },
        "id": "Jaq1h81XCrmr",
        "outputId": "3c1f0ba2-ec0a-4fcb-c8ed-5b52a223e5c0"
      },
      "source": [
        "__modality, __moda_count= np.unique(_Modality, return_counts=True)\n",
        "print(__modality)\n",
        "print(__moda_count)\n",
        "plt.bar(__modality,__moda_count)\n",
        "plt.title('Modality')\n",
        "plt.show()"
      ],
      "execution_count": 23,
      "outputs": [
        {
          "output_type": "stream",
          "text": [
            "['CR' 'DOC' 'DX' 'PR' 'SC' 'SR']\n",
            "[ 79   2 478   3   1   3]\n"
          ],
          "name": "stdout"
        },
        {
          "output_type": "display_data",
          "data": {
            "image/png": "[encoded data removed]",
            "text/plain": [
              "<Figure size 432x288 with 1 Axes>"
            ]
          },
          "metadata": {
            "tags": [],
            "needs_background": "light"
          }
        }
      ]
    },
    {
      "cell_type": "code",
      "metadata": {
        "id": "78NzBgzVDWz5"
      },
      "source": [
        "for i, ind in enumerate(_PID):\n",
        "    #i=0\n",
        "    #pid=_PID[i]\n",
        "    #invID=np.asarray(np.where(_INV==i))\n",
        "    _pidSet=data.PatientID[_INV==i]\n",
        "    _vpSet=data.ViewPosition[_INV==i]\n",
        "    _modalSet=data.Modality[_INV==i]\n",
        "    _ManuSet=data.Manufacturer[_INV==i]\n",
        "    #print(_pidSet) \n",
        "    #print(_vpSet) \n",
        "    #print( _modalSet) \n",
        "    #print( _ManuSet)"
      ],
      "execution_count": 24,
      "outputs": []
    },
    {
      "cell_type": "code",
      "metadata": {
        "colab": {
          "base_uri": "https://localhost:8080/"
        },
        "id": "Y4oEq8gzRz7V",
        "outputId": "cf827645-831a-48d8-846d-5c13dfbcb54f"
      },
      "source": [
        "print(\"Number of Patient: %d\" % len(_PID) )\n",
        "print(\"Number of %s/%s: %d / %d \" %(__sex[0], __sex[1], __sexcount[0], __sexcount[1]))\n",
        "print(\"Number of Manufacture: \")\n",
        "for i, name in enumerate(__manu):\n",
        "    print(\"\\t %s : %d\" %(name, __manu_count[i]))\n"
      ],
      "execution_count": 25,
      "outputs": [
        {
          "output_type": "stream",
          "text": [
            "Number of Patient: 566\n",
            "Number of F/M: 387 / 179 \n",
            "Number of Manufacture: \n",
            "\t \"GE Healthcare\" : 10\n",
            "\t AMICAS-NSC : 2\n",
            "\t Agfa : 376\n",
            "\t CARESTREAM HEALTH : 7\n",
            "\t Canon Inc. : 2\n",
            "\t Carestream Health : 3\n",
            "\t FUJI PHOTO FILM Co., ltd., : 2\n",
            "\t FUJIFILM Corporation : 30\n",
            "\t FUJIFILM Medical Systems USA, Inc. : 1\n",
            "\t GE Healthcare : 13\n",
            "\t GE MEDICAL SYSTEMS : 23\n",
            "\t IRAY : 12\n",
            "\t KONICA MINOLTA : 7\n",
            "\t Konica Minolta : 2\n",
            "\t Lexmark : 1\n",
            "\t LifeImageNotify : 25\n",
            "\t PACSGEAR : 1\n",
            "\t Philips : 1\n",
            "\t Philips Medical Systems : 8\n",
            "\t SIEMENS : 13\n",
            "\t Samsung Electronics : 1\n",
            "\t Toshiba : 2\n",
            "\t Varian : 21\n",
            "\t Visage PR : 3\n"
          ],
          "name": "stdout"
        }
      ]
    }
  ]
}